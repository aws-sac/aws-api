{
 "cells": [
  {
   "cell_type": "code",
   "execution_count": 1,
   "metadata": {},
   "outputs": [],
   "source": [
    "import pandas as pd"
   ]
  },
  {
   "cell_type": "code",
   "execution_count": 2,
   "metadata": {},
   "outputs": [],
   "source": [
    "path_prices_csv = \"./prices.csv\"\n",
    "path_prices_xml = './prices.xml'"
   ]
  },
  {
   "cell_type": "code",
   "execution_count": 3,
   "metadata": {},
   "outputs": [],
   "source": [
    "df = pd.read_csv(path_prices_csv, sep='|', index_col=0)"
   ]
  },
  {
   "cell_type": "code",
   "execution_count": 4,
   "metadata": {},
   "outputs": [
    {
     "data": {
      "text/plain": [
       "Index(['cod_cim', 'obs', 'den_produs', 'forma', 'concentr', 'firma', 'dci',\n",
       "       'ambalaj', 'grupa', 'pret_prod', 'pret_rid', 'pret_am', 'statut_frm',\n",
       "       'statut_anm', 'stare'],\n",
       "      dtype='object')"
      ]
     },
     "execution_count": 4,
     "metadata": {},
     "output_type": "execute_result"
    }
   ],
   "source": [
    "df.columns"
   ]
  },
  {
   "cell_type": "code",
   "execution_count": 18,
   "metadata": {
    "scrolled": true
   },
   "outputs": [
    {
     "data": {
      "text/plain": [
       "COMBINATII         205\n",
       "OLANZAPINUM        113\n",
       "ATORVASTATINUM      77\n",
       "SIMVASTATINUM       75\n",
       "LEVETIRACETAMUM     72\n",
       "DONEPEZILUM         60\n",
       "ROSUVASTATINUM      58\n",
       "MONTELUKASTUM       53\n",
       "FLUCONAZOLUM        51\n",
       "PRAMIPEXOLUM        51\n",
       "Name: dci, dtype: int64"
      ]
     },
     "execution_count": 18,
     "metadata": {},
     "output_type": "execute_result"
    }
   ],
   "source": [
    "df.dci.value_counts().head(10)"
   ]
  },
  {
   "cell_type": "code",
   "execution_count": 17,
   "metadata": {},
   "outputs": [
    {
     "data": {
      "text/plain": [
       "OTSUKA PHARMACEUTICAL EUROPE LTD - MAREA BRITANIE    4\n",
       "Name: firma, dtype: int64"
      ]
     },
     "execution_count": 17,
     "metadata": {},
     "output_type": "execute_result"
    }
   ],
   "source": [
    "df[df.firma == 'OTSUKA PHARMACEUTICAL EUROPE LTD - MAREA BRITANIE'].firma.value_counts()"
   ]
  },
  {
   "cell_type": "code",
   "execution_count": 16,
   "metadata": {
    "scrolled": false
   },
   "outputs": [
    {
     "data": {
      "text/html": [
       "<div>\n",
       "<style scoped>\n",
       "    .dataframe tbody tr th:only-of-type {\n",
       "        vertical-align: middle;\n",
       "    }\n",
       "\n",
       "    .dataframe tbody tr th {\n",
       "        vertical-align: top;\n",
       "    }\n",
       "\n",
       "    .dataframe thead th {\n",
       "        text-align: right;\n",
       "    }\n",
       "</style>\n",
       "<table border=\"1\" class=\"dataframe\">\n",
       "  <thead>\n",
       "    <tr style=\"text-align: right;\">\n",
       "      <th></th>\n",
       "      <th>cod_cim</th>\n",
       "      <th>obs</th>\n",
       "      <th>den_produs</th>\n",
       "      <th>forma</th>\n",
       "      <th>concentr</th>\n",
       "      <th>firma</th>\n",
       "      <th>dci</th>\n",
       "      <th>ambalaj</th>\n",
       "      <th>grupa</th>\n",
       "      <th>pret_prod</th>\n",
       "      <th>pret_rid</th>\n",
       "      <th>pret_am</th>\n",
       "      <th>statut_frm</th>\n",
       "      <th>statut_anm</th>\n",
       "      <th>stare</th>\n",
       "    </tr>\n",
       "    <tr>\n",
       "      <th>cod_cnpm</th>\n",
       "      <th></th>\n",
       "      <th></th>\n",
       "      <th></th>\n",
       "      <th></th>\n",
       "      <th></th>\n",
       "      <th></th>\n",
       "      <th></th>\n",
       "      <th></th>\n",
       "      <th></th>\n",
       "      <th></th>\n",
       "      <th></th>\n",
       "      <th></th>\n",
       "      <th></th>\n",
       "      <th></th>\n",
       "      <th></th>\n",
       "    </tr>\n",
       "  </thead>\n",
       "  <tbody>\n",
       "    <tr>\n",
       "      <th>BLOSAN0012</th>\n",
       "      <td>W55882002</td>\n",
       "      <td>NaN</td>\n",
       "      <td>BLOONIS 5mg</td>\n",
       "      <td>COMPR. FILM.</td>\n",
       "      <td>5mg</td>\n",
       "      <td>SANOFI - AVENTIS ROMANIA SRL - ROMANIA</td>\n",
       "      <td>OLANZAPINUM</td>\n",
       "      <td>Cutie x blistere OPA-Al-PVC/Al x 28 comprimate...</td>\n",
       "      <td>N05AH03</td>\n",
       "      <td>8.09</td>\n",
       "      <td>9.23</td>\n",
       "      <td>12.47</td>\n",
       "      <td>MG</td>\n",
       "      <td>generic</td>\n",
       "      <td>NaN</td>\n",
       "    </tr>\n",
       "    <tr>\n",
       "      <th>OLAPOL0013</th>\n",
       "      <td>W60006003</td>\n",
       "      <td>NaN</td>\n",
       "      <td>OLANZAPINA POLIPHARMA 5mg</td>\n",
       "      <td>COMPR. FILM.</td>\n",
       "      <td>5mg</td>\n",
       "      <td>POLIPHARMA INDUSTRIES SRL - ROMANIA</td>\n",
       "      <td>OLANZAPINUM</td>\n",
       "      <td>Cutie x 4 blistere PA-Al-PVC/Al x 7 comprimate...</td>\n",
       "      <td>N05AH03</td>\n",
       "      <td>8.09</td>\n",
       "      <td>9.23</td>\n",
       "      <td>12.47</td>\n",
       "      <td>MG</td>\n",
       "      <td>generic</td>\n",
       "      <td>NaN</td>\n",
       "    </tr>\n",
       "    <tr>\n",
       "      <th>OLAACT0034</th>\n",
       "      <td>W56900001</td>\n",
       "      <td>NaN</td>\n",
       "      <td>OLANZAPINA ACTAVIS 5mg</td>\n",
       "      <td>COMPR. ORODISP.</td>\n",
       "      <td>5mg</td>\n",
       "      <td>ACTAVIS GROUP PTC EHF - ISLANDA</td>\n",
       "      <td>OLANZAPINUM</td>\n",
       "      <td>Cutie x blistere OPA-Al-PVC/Al x 28 comprimate...</td>\n",
       "      <td>N05AH03</td>\n",
       "      <td>9.70</td>\n",
       "      <td>11.06</td>\n",
       "      <td>14.95</td>\n",
       "      <td>MG</td>\n",
       "      <td>generic</td>\n",
       "      <td>NaN</td>\n",
       "    </tr>\n",
       "  </tbody>\n",
       "</table>\n",
       "</div>"
      ],
      "text/plain": [
       "              cod_cim  obs                 den_produs            forma  \\\n",
       "cod_cnpm                                                                 \n",
       "BLOSAN0012  W55882002  NaN                BLOONIS 5mg     COMPR. FILM.   \n",
       "OLAPOL0013  W60006003  NaN  OLANZAPINA POLIPHARMA 5mg     COMPR. FILM.   \n",
       "OLAACT0034  W56900001  NaN     OLANZAPINA ACTAVIS 5mg  COMPR. ORODISP.   \n",
       "\n",
       "           concentr                                   firma          dci  \\\n",
       "cod_cnpm                                                                   \n",
       "BLOSAN0012      5mg  SANOFI - AVENTIS ROMANIA SRL - ROMANIA  OLANZAPINUM   \n",
       "OLAPOL0013      5mg     POLIPHARMA INDUSTRIES SRL - ROMANIA  OLANZAPINUM   \n",
       "OLAACT0034      5mg         ACTAVIS GROUP PTC EHF - ISLANDA  OLANZAPINUM   \n",
       "\n",
       "                                                      ambalaj    grupa  \\\n",
       "cod_cnpm                                                                 \n",
       "BLOSAN0012  Cutie x blistere OPA-Al-PVC/Al x 28 comprimate...  N05AH03   \n",
       "OLAPOL0013  Cutie x 4 blistere PA-Al-PVC/Al x 7 comprimate...  N05AH03   \n",
       "OLAACT0034  Cutie x blistere OPA-Al-PVC/Al x 28 comprimate...  N05AH03   \n",
       "\n",
       "            pret_prod  pret_rid  pret_am statut_frm statut_anm stare  \n",
       "cod_cnpm                                                              \n",
       "BLOSAN0012       8.09      9.23    12.47         MG    generic   NaN  \n",
       "OLAPOL0013       8.09      9.23    12.47         MG    generic   NaN  \n",
       "OLAACT0034       9.70     11.06    14.95         MG    generic   NaN  "
      ]
     },
     "execution_count": 16,
     "metadata": {},
     "output_type": "execute_result"
    }
   ],
   "source": [
    "df[df.dci == 'OLANZAPINUM'].sort_values(by=['pret_am']).head(3)"
   ]
  },
  {
   "cell_type": "code",
   "execution_count": null,
   "metadata": {},
   "outputs": [],
   "source": []
  }
 ],
 "metadata": {
  "kernelspec": {
   "display_name": "Python 3",
   "language": "python",
   "name": "python3"
  },
  "language_info": {
   "codemirror_mode": {
    "name": "ipython",
    "version": 3
   },
   "file_extension": ".py",
   "mimetype": "text/x-python",
   "name": "python",
   "nbconvert_exporter": "python",
   "pygments_lexer": "ipython3",
   "version": "3.5.2"
  }
 },
 "nbformat": 4,
 "nbformat_minor": 2
}
