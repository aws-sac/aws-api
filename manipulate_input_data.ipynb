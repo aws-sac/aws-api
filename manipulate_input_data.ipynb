{
 "cells": [
  {
   "cell_type": "code",
   "execution_count": null,
   "metadata": {},
   "outputs": [],
   "source": [
    "import pandas as pd"
   ]
  },
  {
   "cell_type": "code",
   "execution_count": null,
   "metadata": {},
   "outputs": [],
   "source": [
    "path_prices_csv = \"./prices.csv\"\n",
    "path_prices_xml = './prices.xml'"
   ]
  },
  {
   "cell_type": "code",
   "execution_count": null,
   "metadata": {},
   "outputs": [],
   "source": [
    "df = pd.read_csv(path_prices_csv, sep='|', index_col=0)"
   ]
  },
  {
   "cell_type": "code",
   "execution_count": null,
   "metadata": {},
   "outputs": [],
   "source": [
    "df.columns"
   ]
  },
  {
   "cell_type": "code",
   "execution_count": null,
   "metadata": {},
   "outputs": [],
   "source": [
    "df.head()"
   ]
  },
  {
   "cell_type": "code",
   "execution_count": null,
   "metadata": {},
   "outputs": [],
   "source": [
    "df['cod_cnpm'] = df.index"
   ]
  },
  {
   "cell_type": "code",
   "execution_count": null,
   "metadata": {},
   "outputs": [],
   "source": [
    "def convert_row(row):\n",
    "    return \"\"\"<medicament=\"{0}\">\n",
    "    <den_produs>{1}</den_produs>\n",
    "    <cod_cim>{2}</cod_cim>\n",
    "    <forma>{3}</forma>\n",
    "    <concentratie>{4}</concentratie>\n",
    "    <firma>{5}</firma>\n",
    "    <dci>{6}</dci>\n",
    "    <ambalaj>{7}</ambalaj>\n",
    "    <grupa>{8}</grupa>\n",
    "    <pret_prod>{9}</pret_prod>\n",
    "    <pret_rid>{10}</pret_rid>\n",
    "    <pret_am>{11}</pret_am>\n",
    "</medicament>\"\"\".format(\n",
    "        row.cod_cnpm,\n",
    "        row.den_produs,\n",
    "        row.cod_cim,\n",
    "        row.forma,\n",
    "        row.concentr,\n",
    "        row.firma,\n",
    "        row.dci,\n",
    "        row.ambalaj,\n",
    "        row.grupa,\n",
    "        float(row.pret_prod),\n",
    "        float(row.pret_rid),\n",
    "        float(row.pret_am)\n",
    "    )\n",
    "\n",
    "all_xml = '\\n'.join(df.apply(convert_row, axis=1))"
   ]
  },
  {
   "cell_type": "code",
   "execution_count": null,
   "metadata": {},
   "outputs": [],
   "source": [
    "with open(path_prices_xml, 'w') as f:\n",
    "    f.write(all_xml)"
   ]
  },
  {
   "cell_type": "code",
   "execution_count": null,
   "metadata": {},
   "outputs": [],
   "source": []
  }
 ],
 "metadata": {
  "kernelspec": {
   "display_name": "Python 3",
   "language": "python",
   "name": "python3"
  },
  "language_info": {
   "codemirror_mode": {
    "name": "ipython",
    "version": 3
   },
   "file_extension": ".py",
   "mimetype": "text/x-python",
   "name": "python",
   "nbconvert_exporter": "python",
   "pygments_lexer": "ipython3",
   "version": "3.5.2"
  }
 },
 "nbformat": 4,
 "nbformat_minor": 2
}
